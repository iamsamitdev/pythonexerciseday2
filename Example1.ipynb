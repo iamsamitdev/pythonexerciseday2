{
 "cells": [
  {
   "cell_type": "code",
   "execution_count": 8,
   "id": "8d42129a",
   "metadata": {
    "scrolled": true
   },
   "outputs": [
    {
     "name": "stdout",
     "output_type": "stream",
     "text": [
      "Hello Python Notebook\n",
      "สวัสดีครับ\n",
      "8\n"
     ]
    }
   ],
   "source": [
    "print(\"Hello Python Notebook\")\n",
    "print(\"สวัสดีครับ\")\n",
    "print(2**3)"
   ]
  },
  {
   "cell_type": "code",
   "execution_count": null,
   "id": "d3db38e1",
   "metadata": {},
   "outputs": [],
   "source": [
    "def show_message(msg):\n",
    "    print(msg)\n",
    "\n",
    "show_message(\"Hi Jupyter\")"
   ]
  },
  {
   "cell_type": "code",
   "execution_count": null,
   "id": "88278378",
   "metadata": {},
   "outputs": [],
   "source": [
    "# print(1+2)"
   ]
  },
  {
   "cell_type": "code",
   "execution_count": null,
   "id": "7f7c80bc",
   "metadata": {},
   "outputs": [],
   "source": [
    "print?"
   ]
  },
  {
   "cell_type": "code",
   "execution_count": null,
   "id": "952f9265",
   "metadata": {},
   "outputs": [],
   "source": [
    "help(print)\n",
    "help(input)\n",
    "help(numpy)"
   ]
  },
  {
   "cell_type": "code",
   "execution_count": 6,
   "id": "e2873eda",
   "metadata": {},
   "outputs": [],
   "source": [
    "from Car import *"
   ]
  },
  {
   "cell_type": "code",
   "execution_count": 7,
   "id": "889d2bd1",
   "metadata": {},
   "outputs": [
    {
     "name": "stdout",
     "output_type": "stream",
     "text": [
      "Enter favorit color: Red\n",
      "Enter favorit brand: Toyota\n",
      "Enter car seats: 7\n",
      "Enter car wheels: 4\n",
      "Enter car speed: 1200\n",
      "Enter car plateid: 1กท5200\n",
      "------------------------\n",
      "Color:  Red\n",
      "Brand:  Toyota\n",
      "Seats:  7\n",
      "Wheels:  4\n",
      "Speed:  1200\n",
      "Plate ID:  1กท5200\n"
     ]
    }
   ],
   "source": [
    "# รับข้อมูลจากผู้ใช้\n",
    "c_color = input('Enter favorit color: ')\n",
    "c_brand = input('Enter favorit brand: ')\n",
    "c_seats = input('Enter car seats: ')\n",
    "c_wheels = input('Enter car wheels: ')\n",
    "c_speed = input('Enter car speed: ')\n",
    "c_plateid = input('Enter car plateid: ')\n",
    "\n",
    "print(\"------------------------\")\n",
    "\n",
    "# สร้าง Object Car\n",
    "c1 = Car(c_color, c_brand, c_seats, c_wheels, c_speed, c_plateid)\n",
    "c1.printData()"
   ]
  }
 ],
 "metadata": {
  "kernelspec": {
   "display_name": "Python 3 (ipykernel)",
   "language": "python",
   "name": "python3"
  },
  "language_info": {
   "codemirror_mode": {
    "name": "ipython",
    "version": 3
   },
   "file_extension": ".py",
   "mimetype": "text/x-python",
   "name": "python",
   "nbconvert_exporter": "python",
   "pygments_lexer": "ipython3",
   "version": "3.10.1"
  }
 },
 "nbformat": 4,
 "nbformat_minor": 5
}
