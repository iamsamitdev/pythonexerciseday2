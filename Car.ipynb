{
 "cells": [
  {
   "cell_type": "code",
   "execution_count": 2,
   "id": "4249626b",
   "metadata": {},
   "outputs": [],
   "source": [
    "class Car:\n",
    "    # Properties (คุณสมบัติของคลาส)\n",
    "    color = \"No color\"\n",
    "    brand = \"No brand\"\n",
    "    number_of_seats = 4\n",
    "    number_of_wheels = 4\n",
    "    maxspeed = 0\n",
    "    plate_id = \"\"\n",
    "\n",
    "    # Contructor\n",
    "    def __init__(self, color, brand, number_of_seats, number_of_wheels, maxspeed, plate_id):\n",
    "        self.color = color\n",
    "        self.brand = brand\n",
    "        self.number_of_seats = number_of_seats\n",
    "        self.number_of_wheels = number_of_wheels\n",
    "        self.maxspeed = maxspeed\n",
    "        self.plate_id = plate_id\n",
    "\n",
    "    # Methods\n",
    "    def setColor(self, x):\n",
    "        self.color = x\n",
    "\n",
    "    def setBrand(self, x):\n",
    "        self.brand = x\n",
    "\n",
    "    def setNumberOfSeats(self, x):\n",
    "        self.number_of_seats = x\n",
    "\n",
    "    def setNumberOfWeels(self, x):\n",
    "        self.number_of_wheels = x\n",
    "\n",
    "    def setMaxSpeed(self, x):\n",
    "        self.maxspeed = x\n",
    "\n",
    "    def setPlateID(self, x):\n",
    "        self.plate_id = x\n",
    "\n",
    "    def printData(self):\n",
    "        print(\"Color: \", self.color)\n",
    "        print(\"Brand: \", self.brand)\n",
    "        print(\"Seats: \", self.number_of_seats)\n",
    "        print(\"Wheels: \", self.number_of_wheels)\n",
    "        print(\"Speed: \", self.maxspeed)\n",
    "        print(\"Plate ID: \", self.plate_id)\n"
   ]
  }
 ],
 "metadata": {
  "kernelspec": {
   "display_name": "Python 3 (ipykernel)",
   "language": "python",
   "name": "python3"
  },
  "language_info": {
   "codemirror_mode": {
    "name": "ipython",
    "version": 3
   },
   "file_extension": ".py",
   "mimetype": "text/x-python",
   "name": "python",
   "nbconvert_exporter": "python",
   "pygments_lexer": "ipython3",
   "version": "3.10.1"
  }
 },
 "nbformat": 4,
 "nbformat_minor": 5
}
